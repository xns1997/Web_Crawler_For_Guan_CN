{
 "cells": [
  {
   "cell_type": "code",
   "execution_count": 77,
   "metadata": {},
   "outputs": [],
   "source": [
    "class rawData:\n",
    "    def __init__(self, aid, bvid, createdTime, title, length, description, play, comment, videoReview,coin,danmaku,favorite,like, reply, share):\n",
    "        self.aid = aid\n",
    "        self.bvid = bvid\n",
    "        self.createdTime = createdTime\n",
    "        self.title = title\n",
    "        self.length = length\n",
    "        self.description = description\n",
    "        self.play = play\n",
    "        self.comment = comment\n",
    "        self.videoReview = videoReview\n",
    "        self.coin = coin\n",
    "        self.danmaku = danmaku\n",
    "        self.favorite = favorite\n",
    "        self.like = like\n",
    "        self.reply = reply\n",
    "        self.share = share\n",
    "    def __str__(self):\n",
    "        return str(self.aid) + '\\t' + self.bvid + '\\t' + str(self.createdTime) + '\\t' + self.title + '\\t' \\\n",
    "        + self.length + '\\t' + self.description + '\\t' + str(self.play) + '\\t' + str(self.comment) + '\\t' \\\n",
    "        + str(self.videoReview) + str(self.coin) + str(self.danmaku) + str(self.favorite )+ '\\t' \\\n",
    "        + str(self.like) + '\\t' + str(self.reply) + '\\t' + str(self.share) + '\\n'\n",
    "    def __hash__(self):\n",
    "        return hash(self.title)\n",
    "    def __eq__(self, value):\n",
    "        return self.bvid == value.bvid\n",
    "class total:\n",
    "    def __init__(self,key,video,length, play, comment, coin, danmaku, favorite, like, reply, share):\n",
    "        self.key = key\n",
    "        self.video = video\n",
    "        self.length = length\n",
    "        self.play = play\n",
    "        self.comment = comment\n",
    "        self.coin = coin\n",
    "        self.danmaku = danmaku\n",
    "        self.favorite = favorite\n",
    "        self.like = like\n",
    "        self.reply = reply\n",
    "        self.share = share\n",
    "    def __str__(self):\n",
    "        return \"{0}\\t{1}\\t{2}\\t{3}\\t{4}\\t{5}\\t{6}\\t{7}\\t{8}\\t{9}\\t{10}\\n\".format(self.key,self.video,self.length,self.play,self.comment,self.coin,self.danmaku,self.favorite,self.like,self.reply,self.share)\n",
    "        \n",
    "\n",
    "        \n",
    "class _time:\n",
    "    def __init__(self,converted):\n",
    "        self.h = converted[0]\n",
    "        self.m = converted[1]\n",
    "        self.s = converted[2]\n",
    "        self.m += self.s // 60\n",
    "        self.s = self.s % 60\n",
    "        self.h += self.m // 60\n",
    "        self.m = self.m % 60\n",
    "    def __str__(self):\n",
    "        return \"{:02d} : {:02d} : {:02d}\".format(self.h, self.m, self.s)\n",
    "    def __repr__(self):\n",
    "        return str(self)\n",
    "    def __add__(self, other):\n",
    "        return _time((self.h + other.h, self.m + other.m, self.s + other.s))\n",
    "    def __sub__(self, other):\n",
    "        return _time((self.h - other.h, self.m - other.m, self.s - other.s))\n",
    "def convert(time_str):\n",
    "    if time_str == None or time_str == \"\":\n",
    "        return \"Error\"\n",
    "    else:\n",
    "        temp = time_str.split(\":\")\n",
    "        if len(temp) == 2:\n",
    "            return _time((0,int(temp[0]),int(temp[1])))\n",
    "        elif len(temp) == 3:\n",
    "            return _time((int(temp[0]),int(temp[1]), int(temp[2])))\n",
    "        else:\n",
    "            return \"error\""
   ]
  },
  {
   "cell_type": "code",
   "execution_count": 78,
   "metadata": {},
   "outputs": [
    {
     "name": "stdout",
     "output_type": "stream",
     "text": [
      "02 : 22 : 02\n"
     ]
    }
   ],
   "source": [
    "print(convert(\"70:61\") + convert(\"70:61\"))"
   ]
  },
  {
   "cell_type": "code",
   "execution_count": 79,
   "metadata": {},
   "outputs": [],
   "source": [
    "import csv\n",
    "\n",
    "def load(fileDir):\n",
    "    fp = open(fileDir)\n",
    "    reader = csv.reader(fp, delimiter='\\t')\n",
    "    header = next(reader)\n",
    "    temp = []\n",
    "    for row in reader:\n",
    "        temp += [rawData(row[0],row[1],row[2],row[3],row[4],row[5],row[6],row[7],row[8],row[9],row[10],row[11],row[12],row[13],row[14])]\n",
    "    return temp\n",
    "data = load('searched.csv')"
   ]
  },
  {
   "cell_type": "code",
   "execution_count": 80,
   "metadata": {},
   "outputs": [],
   "source": [
    "key_dict = [['王骁', '骁', '骁话一下'], ['董佳宁', '懂点儿啥'], ['张维为', '这就是中国', '维为'], ['丁一凡', '非同凡想'], ['王炳忠'], ['施佬胡诌', '施佬', '胡诌'], ['巴黎日记'], ['冷凇'], ['席亚洲', '亚洲特快'], ['大包', '科技战'], ['马前卒', '睡前消息', '督工'], ['余亮', '从书说起'], ['科技袁周虑', '科技袁人'], ['郑若麟', '又见法国', '又见'], ['陈平', '眉山论剑'], ['老马', '【也说】','也说：'], ['翟东升', '政经启翟']]\n",
    "\n",
    "result = {'王骁': [], '董佳宁': [], '张维为': [], '丁一凡': [], '王炳忠': [], '施佬胡诌': [], '席亚洲': [], '大包': [], '马前卒': [], '余亮': [], '科技袁周虑': [], '郑若麟': [], '陈平': [], '老马': [] , '翟东升': [],'巴黎日记': [], '冷凇': [], '大包': [] }"
   ]
  },
  {
   "cell_type": "code",
   "execution_count": 81,
   "metadata": {},
   "outputs": [],
   "source": [
    "for row in data:\n",
    "    for i in key_dict:\n",
    "        key = i[0]\n",
    "        for j in i:\n",
    "            if j in row.title or j in row.description:\n",
    "                try:\n",
    "                    result[key] += [row]\n",
    "                except:\n",
    "                    pass\n"
   ]
  },
  {
   "cell_type": "code",
   "execution_count": 82,
   "metadata": {},
   "outputs": [],
   "source": [
    "for i in result:\n",
    "    result[i] = list(set(result[i]))"
   ]
  },
  {
   "cell_type": "code",
   "execution_count": 83,
   "metadata": {},
   "outputs": [],
   "source": [
    "data_set = {'王骁': None, '董佳宁': None, '张维为': None, '丁一凡': None, '王炳忠': None, '施佬胡诌': None, '席亚洲': None, '大包': None, '马前卒': None, '余亮': None, '科技袁周虑': None, '郑若麟': None, '陈平': None,'老马': None , '翟东升': None,'巴黎日记': None, '冷凇': None, '大包': None  }\n",
    "for key in result:\n",
    "    temp = [key,0,convert('00:00'),0,0,0,0,0,0,0,0]\n",
    "    for video in result[key]:\n",
    "        temp[1]+=1\n",
    "        temp[2]+=convert(video.length)\n",
    "        temp[3]+=int(video.play)\n",
    "        temp[4]+=int(video.comment)\n",
    "        temp[5]+=int(video.coin)\n",
    "        temp[6]+=int(video.danmaku)\n",
    "        temp[7]+=int(video.favorite)\n",
    "        temp[8]+=int(video.like)\n",
    "        temp[9]+=int(video.reply)\n",
    "        temp[10]+=int(video.share)\n",
    "    data_set[key] = total(temp[0],temp[1],temp[2],temp[3],temp[4],temp[5],temp[6],temp[7],temp[8],temp[9],temp[10])"
   ]
  },
  {
   "cell_type": "code",
   "execution_count": 84,
   "metadata": {},
   "outputs": [
    {
     "name": "stdout",
     "output_type": "stream",
     "text": [
      "王骁\t88\t15 : 35 : 31\t88102561\t322709\t3414746\t1194938\t1220925\t6580266\t322764\t581382\n",
      "\n"
     ]
    }
   ],
   "source": [
    "print(data_set['王骁'])\n"
   ]
  },
  {
   "cell_type": "code",
   "execution_count": 85,
   "metadata": {},
   "outputs": [],
   "source": [
    "output = open(\"./final.csv\",'w')\n",
    "output.write('name\\tvideo\\tlength\\tplay\\tcomment\\tcoin\\tdanmaku\\tfavorite\\tlike\\treply\\tshare\\n')\n",
    "for host in data_set:\n",
    "    output.write(str(data_set[host]))\n",
    "output.close()"
   ]
  },
  {
   "cell_type": "code",
   "execution_count": null,
   "metadata": {},
   "outputs": [],
   "source": []
  }
 ],
 "metadata": {
  "kernelspec": {
   "display_name": "Python 3",
   "language": "python",
   "name": "python3"
  },
  "language_info": {
   "codemirror_mode": {
    "name": "ipython",
    "version": 3
   },
   "file_extension": ".py",
   "mimetype": "text/x-python",
   "name": "python",
   "nbconvert_exporter": "python",
   "pygments_lexer": "ipython3",
   "version": "3.8.3"
  }
 },
 "nbformat": 4,
 "nbformat_minor": 4
}
